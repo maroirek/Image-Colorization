{
 "cells": [
  {
   "cell_type": "markdown",
   "metadata": {},
   "source": [
    "First approach : Using Lab color space\n",
    "\n",
    "We use the L channel (intensity of the pixel) of a grayscale image to predict a and b channels (red-green channel and yellow-blue one) then we get the RGB image from the L channel and ab predicted channels.\n",
    "\n",
    "In order to predict the a and be channel, we can use a machine learning model.  "
   ]
  },
  {
   "cell_type": "markdown",
   "metadata": {},
   "source": [
    "Second approach : Using GANs\n",
    "\n",
    "Ncchofo kifch xD"
   ]
  }
 ],
 "metadata": {
  "language_info": {
   "name": "python"
  },
  "orig_nbformat": 4
 },
 "nbformat": 4,
 "nbformat_minor": 2
}
